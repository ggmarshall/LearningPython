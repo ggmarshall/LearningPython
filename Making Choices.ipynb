{
 "cells": [
  {
   "cell_type": "markdown",
   "metadata": {},
   "source": [
    "# Conditional Statements"
   ]
  },
  {
   "cell_type": "code",
   "execution_count": 3,
   "metadata": {},
   "outputs": [
    {
     "name": "stdout",
     "output_type": "stream",
     "text": [
      "greater\n",
      "finished\n"
     ]
    }
   ],
   "source": [
    "num = 12.56743\n",
    "if num > 10:\n",
    "    print('greater')\n",
    "else:\n",
    "    print('not greater')\n",
    "print(\"finished\")"
   ]
  },
  {
   "cell_type": "markdown",
   "metadata": {},
   "source": [
    "# Checking our Data"
   ]
  },
  {
   "cell_type": "code",
   "execution_count": 4,
   "metadata": {},
   "outputs": [
    {
     "name": "stdout",
     "output_type": "stream",
     "text": [
      "Mean < 10\n"
     ]
    }
   ],
   "source": [
    "import numpy as np\n",
    "\n",
    "data = np.loadtxt('data/inflammation-01.csv', delimiter=',')\n",
    "mean = np.mean(data,axis=0)\n",
    "\n",
    "if mean[0] > 10:\n",
    "    print(\"Mean > 10\")\n",
    "else:\n",
    "    print(\"Mean < 10\")\n",
    "    "
   ]
  },
  {
   "cell_type": "code",
   "execution_count": 7,
   "metadata": {},
   "outputs": [
    {
     "name": "stdout",
     "output_type": "stream",
     "text": [
      "data/inflammation-01.csv\n",
      "data/inflammation-02.csv\n",
      "data/inflammation-03.csv\n",
      "Suspicious data - check\n",
      "data/inflammation-04.csv\n",
      "data/inflammation-05.csv\n",
      "data/inflammation-06.csv\n",
      "data/inflammation-07.csv\n",
      "data/inflammation-08.csv\n",
      "Suspicious data - check\n",
      "data/inflammation-09.csv\n",
      "data/inflammation-10.csv\n",
      "data/inflammation-11.csv\n",
      "Suspicious data - check\n",
      "data/inflammation-12.csv\n"
     ]
    }
   ],
   "source": [
    "import glob\n",
    "import matplotlib.pyplot as plt\n",
    "\n",
    "filenames = sorted(glob.glob('data/inflammation*.csv'))\n",
    "\n",
    "for filename in filenames:\n",
    "    print(filename)\n",
    "    data = np.loadtxt(filename, delimiter=',')\n",
    "    \n",
    "    min_value = np.min(data,axis=0)\n",
    "    \n",
    "    sum_of_min = np.sum(min_value)\n",
    "    \n",
    "    if sum_of_min ==0:\n",
    "        print(\"Suspicious data - check\")"
   ]
  },
  {
   "cell_type": "code",
   "execution_count": null,
   "metadata": {},
   "outputs": [],
   "source": []
  }
 ],
 "metadata": {
  "kernelspec": {
   "display_name": "Python 3",
   "language": "python",
   "name": "python3"
  },
  "language_info": {
   "codemirror_mode": {
    "name": "ipython",
    "version": 3
   },
   "file_extension": ".py",
   "mimetype": "text/x-python",
   "name": "python",
   "nbconvert_exporter": "python",
   "pygments_lexer": "ipython3",
   "version": "3.8.3"
  }
 },
 "nbformat": 4,
 "nbformat_minor": 4
}
